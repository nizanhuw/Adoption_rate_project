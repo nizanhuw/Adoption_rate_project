{
  "cells": [
    {
      "cell_type": "markdown",
      "id": "10a827de",
      "metadata": {
        "id": "10a827de"
      },
      "source": [
        "![Relax](https://raw.githubusercontent.com/interviewquery/takehomes/relax_1/relax_1/logo.png)\n",
        "\n",
        "The data is available as two attached CSV files:\n",
        "```\n",
        "takehome_user_engagement.csv\n",
        "takehome_users.csv\n",
        "```\n",
        "The data has the following two tables:\n",
        "\n",
        "1.  A user table ( `takehome_users.csv`) with data on 12,000 users who\n",
        "    signed up for the product in the last two years. This table\n",
        "    includes:\n",
        "\n",
        "    -   `name`: the user's name\n",
        "\n",
        "    -   `object_id`: the user's id\n",
        "\n",
        "    -   `email`: email address\n",
        "\n",
        "    -   `creation_source`: how their account was created. This takes\n",
        "        on one of 5 values:\n",
        "        - `PERSONAL_PROJECTS`: invited to join another user's personal workspace\n",
        "        - `GUEST_INVITE`: invited to an organization as a guest (limited permissions)\n",
        "        - `ORG_INVITE`: invited to an organization (as a full member)\n",
        "        - `SIGNUP`: signed up via the website\n",
        "        - `SIGNUP_GOOGLE_AUTH`: signed up using Google Authentication (using a Google email account for their login id)\n",
        "\n",
        "-   `creation_time`: when they created their account\n",
        "\n",
        "-   `last_session_creation_time`: unix timestamp of last login\n",
        "\n",
        "-   `opted_in_to_mailing_list`: whether they have opted into receiving\n",
        "    marketing emails\n",
        "\n",
        "-   `enabled_for_marketing_drip`: whether they are on the regular\n",
        "    marketing email drip\n",
        "\n",
        "-   `org_id`: the organization (group of users) they belong to\n",
        "\n",
        "-   `invited_by_user_id`: which user invited them to join (if\n",
        "    applicable).\n",
        "\n",
        "2.  A usage summary table ( `takehome_user_engagement.csv` ) that has a\n",
        "    row for each day that a user logged into the product.\n",
        "\n",
        "Defining an _\"adopted user\"_ as a user who *has logged into the\n",
        "product on three separate days in at least one seven-­day period*,\n",
        "**identify which factors predict future user adoption**.\n",
        "\n",
        "We suggest spending 1­2 hours on this, but you're welcome to spend more\n",
        "or less.\n",
        "\n"
      ]
    },
    {
      "cell_type": "code",
      "execution_count": null,
      "id": "b1cf3a13",
      "metadata": {
        "id": "b1cf3a13"
      },
      "outputs": [],
      "source": [
        "!git clone --branch relax_1 https://github.com/interviewquery/takehomes.git\n",
        "%cd takehomes/relax_1\n",
        "!ls"
      ]
    },
    {
      "cell_type": "code",
      "execution_count": null,
      "id": "7bda804f",
      "metadata": {
        "id": "7bda804f"
      },
      "outputs": [],
      "source": [
        "# fix the encodding to latian 1\n"
      ]
    },
    {
      "cell_type": "markdown",
      "source": [
        "okay redo we did a good job once again :\n",
        "\n",
        "* what is an adiopted user: a user that visted / logined in 3 days in a week at least once each day  - caculate that specfic type (everything will be in comparsion to this metric on interest)\n",
        "- calculte this number , get the rate for comparsions betwen the columns\n",
        "\n",
        "\n",
        "0) this the portion where we discused cleaning the data to check the percentage of missing values and how to fix the missing values to make the data good and useful (oultiers or distribution type )\n",
        "a) look at the measure of center\n",
        "based on the data of what is an adopted user can we describe the data: such as the mean , median, avge of an adopted user (disributoin looking like )\n",
        "b) look in the measuare of spread is it skwered are there oultileres, whars the sd variance in the data specfically of adopted user\n",
        "\n",
        "c) we want to look at the different assosicaitons betwwen data poitns\n",
        "- fitler and join the data apoprtiately (thinking about group by , etc )\n",
        "- utlizing the columns to come up with hypothesis or associations checks\n",
        "\n",
        "d) Hyphothesis:\n",
        "- does a adoption rate have a higher rate in a specific create source than the other ?\n",
        "(look at the segmentation accross the different users )\n",
        "\n",
        "\n",
        "b does recieing maretking notfications have higher adoption user rate (either with markeiting drip or listing ) if so how\n",
        "\n",
        "c) does the seasonality of time have higher rates of adoption inthe last two years if so is there a cycle or patten\n",
        "\n",
        "e) After looking into the hyptoeses extracting interesting columns and looing into a corealtion heat map\n",
        "\n",
        "f) running a feature selction aprroptatiley , preforming mulitilinear regeessions to see if columns of interes\n",
        "\n",
        "g) look at the take home solution commet on the revisions of what we could improve on or fix, implement or unesscary\n",
        "\n",
        "\n",
        "\n"
      ],
      "metadata": {
        "id": "_tvhCYgWdGv3"
      },
      "id": "_tvhCYgWdGv3"
    },
    {
      "cell_type": "markdown",
      "source": [
        "# step 1\n",
        "read in both filed import pandas, numpy, matplot lib and seaborm\n",
        "\n",
        "# step 2\n",
        "look at one file at a tyime\n",
        "get the head, describe the the columns and dtypes and column names,\n",
        "\n",
        "# step 3\n",
        "change neceary with a copy to the clean set\n",
        "then visualize the import ance of missing data\n",
        "\n",
        "start inderstand the spread and center of the time each year to get a sense of the distribution aka i think a density plot\n",
        "\n",
        "# step 4\n",
        "create the this adoption rate that made in the first data set  "
      ],
      "metadata": {
        "id": "BhTWTScofZqF"
      },
      "id": "BhTWTScofZqF"
    }
  ],
  "metadata": {
    "kernelspec": {
      "display_name": "Python 3 (ipykernel)",
      "language": "python",
      "name": "python3"
    },
    "language_info": {
      "codemirror_mode": {
        "name": "ipython",
        "version": 3
      },
      "file_extension": ".py",
      "mimetype": "text/x-python",
      "name": "python",
      "nbconvert_exporter": "python",
      "pygments_lexer": "ipython3",
      "version": "3.10.5"
    },
    "colab": {
      "provenance": []
    }
  },
  "nbformat": 4,
  "nbformat_minor": 5
}